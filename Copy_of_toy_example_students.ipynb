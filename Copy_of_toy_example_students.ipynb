{
  "nbformat": 4,
  "nbformat_minor": 5,
  "metadata": {
    "kernelspec": {
      "display_name": "Python 3 (ipykernel)",
      "language": "python",
      "name": "python3"
    },
    "language_info": {
      "codemirror_mode": {
        "name": "ipython",
        "version": 3
      },
      "file_extension": ".py",
      "mimetype": "text/x-python",
      "name": "python",
      "nbconvert_exporter": "python",
      "pygments_lexer": "ipython3",
      "version": "3.9.6"
    },
    "colab": {
      "name": "Copy of toy_example_students.ipynb",
      "provenance": [],
      "collapsed_sections": [],
      "include_colab_link": true
    },
    "widgets": {
      "application/vnd.jupyter.widget-state+json": {
        "0999da7fc66d4ea3afbaf538c601f979": {
          "model_module": "@jupyter-widgets/controls",
          "model_name": "HBoxModel",
          "model_module_version": "1.5.0",
          "state": {
            "_view_name": "HBoxView",
            "_dom_classes": [],
            "_model_name": "HBoxModel",
            "_view_module": "@jupyter-widgets/controls",
            "_model_module_version": "1.5.0",
            "_view_count": null,
            "_view_module_version": "1.5.0",
            "box_style": "",
            "layout": "IPY_MODEL_fefd938113944be395758bbc451be5e1",
            "_model_module": "@jupyter-widgets/controls",
            "children": [
              "IPY_MODEL_4941fadfe322451b87e2c3f7aae7a089",
              "IPY_MODEL_71ff5bb663424ff6bb0fab260fb5d8ff",
              "IPY_MODEL_c5199827baee45fb9ec63ab9667ccce5"
            ]
          }
        },
        "fefd938113944be395758bbc451be5e1": {
          "model_module": "@jupyter-widgets/base",
          "model_name": "LayoutModel",
          "model_module_version": "1.2.0",
          "state": {
            "_view_name": "LayoutView",
            "grid_template_rows": null,
            "right": null,
            "justify_content": null,
            "_view_module": "@jupyter-widgets/base",
            "overflow": null,
            "_model_module_version": "1.2.0",
            "_view_count": null,
            "flex_flow": null,
            "width": null,
            "min_width": null,
            "border": null,
            "align_items": null,
            "bottom": null,
            "_model_module": "@jupyter-widgets/base",
            "top": null,
            "grid_column": null,
            "overflow_y": null,
            "overflow_x": null,
            "grid_auto_flow": null,
            "grid_area": null,
            "grid_template_columns": null,
            "flex": null,
            "_model_name": "LayoutModel",
            "justify_items": null,
            "grid_row": null,
            "max_height": null,
            "align_content": null,
            "visibility": null,
            "align_self": null,
            "height": null,
            "min_height": null,
            "padding": null,
            "grid_auto_rows": null,
            "grid_gap": null,
            "max_width": null,
            "order": null,
            "_view_module_version": "1.2.0",
            "grid_template_areas": null,
            "object_position": null,
            "object_fit": null,
            "grid_auto_columns": null,
            "margin": null,
            "display": null,
            "left": null
          }
        },
        "4941fadfe322451b87e2c3f7aae7a089": {
          "model_module": "@jupyter-widgets/controls",
          "model_name": "HTMLModel",
          "model_module_version": "1.5.0",
          "state": {
            "_view_name": "HTMLView",
            "style": "IPY_MODEL_f0b69e7da8ba4d78ab4a88dbe6bc48c3",
            "_dom_classes": [],
            "description": "",
            "_model_name": "HTMLModel",
            "placeholder": "​",
            "_view_module": "@jupyter-widgets/controls",
            "_model_module_version": "1.5.0",
            "value": "Training: 100%",
            "_view_count": null,
            "_view_module_version": "1.5.0",
            "description_tooltip": null,
            "_model_module": "@jupyter-widgets/controls",
            "layout": "IPY_MODEL_2da4bd237c28417dba8eccc026f83b37"
          }
        },
        "71ff5bb663424ff6bb0fab260fb5d8ff": {
          "model_module": "@jupyter-widgets/controls",
          "model_name": "FloatProgressModel",
          "model_module_version": "1.5.0",
          "state": {
            "_view_name": "ProgressView",
            "style": "IPY_MODEL_f1d2ba0ddb96430592212481f18b5959",
            "_dom_classes": [],
            "description": "",
            "_model_name": "FloatProgressModel",
            "bar_style": "success",
            "max": 100,
            "_view_module": "@jupyter-widgets/controls",
            "_model_module_version": "1.5.0",
            "value": 100,
            "_view_count": null,
            "_view_module_version": "1.5.0",
            "orientation": "horizontal",
            "min": 0,
            "description_tooltip": null,
            "_model_module": "@jupyter-widgets/controls",
            "layout": "IPY_MODEL_9d51c853b84c4df489dcd5817daa61de"
          }
        },
        "c5199827baee45fb9ec63ab9667ccce5": {
          "model_module": "@jupyter-widgets/controls",
          "model_name": "HTMLModel",
          "model_module_version": "1.5.0",
          "state": {
            "_view_name": "HTMLView",
            "style": "IPY_MODEL_2c51a57febdd4476a344e3bab0042a82",
            "_dom_classes": [],
            "description": "",
            "_model_name": "HTMLModel",
            "placeholder": "​",
            "_view_module": "@jupyter-widgets/controls",
            "_model_module_version": "1.5.0",
            "value": " 100/100 [00:02&lt;00:00, 47.93it/s, accuracy=0.977, loss=0.00178]",
            "_view_count": null,
            "_view_module_version": "1.5.0",
            "description_tooltip": null,
            "_model_module": "@jupyter-widgets/controls",
            "layout": "IPY_MODEL_ef393024a7d849839e69774ae9580a4c"
          }
        },
        "f0b69e7da8ba4d78ab4a88dbe6bc48c3": {
          "model_module": "@jupyter-widgets/controls",
          "model_name": "DescriptionStyleModel",
          "model_module_version": "1.5.0",
          "state": {
            "_view_name": "StyleView",
            "_model_name": "DescriptionStyleModel",
            "description_width": "",
            "_view_module": "@jupyter-widgets/base",
            "_model_module_version": "1.5.0",
            "_view_count": null,
            "_view_module_version": "1.2.0",
            "_model_module": "@jupyter-widgets/controls"
          }
        },
        "2da4bd237c28417dba8eccc026f83b37": {
          "model_module": "@jupyter-widgets/base",
          "model_name": "LayoutModel",
          "model_module_version": "1.2.0",
          "state": {
            "_view_name": "LayoutView",
            "grid_template_rows": null,
            "right": null,
            "justify_content": null,
            "_view_module": "@jupyter-widgets/base",
            "overflow": null,
            "_model_module_version": "1.2.0",
            "_view_count": null,
            "flex_flow": null,
            "width": null,
            "min_width": null,
            "border": null,
            "align_items": null,
            "bottom": null,
            "_model_module": "@jupyter-widgets/base",
            "top": null,
            "grid_column": null,
            "overflow_y": null,
            "overflow_x": null,
            "grid_auto_flow": null,
            "grid_area": null,
            "grid_template_columns": null,
            "flex": null,
            "_model_name": "LayoutModel",
            "justify_items": null,
            "grid_row": null,
            "max_height": null,
            "align_content": null,
            "visibility": null,
            "align_self": null,
            "height": null,
            "min_height": null,
            "padding": null,
            "grid_auto_rows": null,
            "grid_gap": null,
            "max_width": null,
            "order": null,
            "_view_module_version": "1.2.0",
            "grid_template_areas": null,
            "object_position": null,
            "object_fit": null,
            "grid_auto_columns": null,
            "margin": null,
            "display": null,
            "left": null
          }
        },
        "f1d2ba0ddb96430592212481f18b5959": {
          "model_module": "@jupyter-widgets/controls",
          "model_name": "ProgressStyleModel",
          "model_module_version": "1.5.0",
          "state": {
            "_view_name": "StyleView",
            "_model_name": "ProgressStyleModel",
            "description_width": "",
            "_view_module": "@jupyter-widgets/base",
            "_model_module_version": "1.5.0",
            "_view_count": null,
            "_view_module_version": "1.2.0",
            "bar_color": null,
            "_model_module": "@jupyter-widgets/controls"
          }
        },
        "9d51c853b84c4df489dcd5817daa61de": {
          "model_module": "@jupyter-widgets/base",
          "model_name": "LayoutModel",
          "model_module_version": "1.2.0",
          "state": {
            "_view_name": "LayoutView",
            "grid_template_rows": null,
            "right": null,
            "justify_content": null,
            "_view_module": "@jupyter-widgets/base",
            "overflow": null,
            "_model_module_version": "1.2.0",
            "_view_count": null,
            "flex_flow": null,
            "width": null,
            "min_width": null,
            "border": null,
            "align_items": null,
            "bottom": null,
            "_model_module": "@jupyter-widgets/base",
            "top": null,
            "grid_column": null,
            "overflow_y": null,
            "overflow_x": null,
            "grid_auto_flow": null,
            "grid_area": null,
            "grid_template_columns": null,
            "flex": null,
            "_model_name": "LayoutModel",
            "justify_items": null,
            "grid_row": null,
            "max_height": null,
            "align_content": null,
            "visibility": null,
            "align_self": null,
            "height": null,
            "min_height": null,
            "padding": null,
            "grid_auto_rows": null,
            "grid_gap": null,
            "max_width": null,
            "order": null,
            "_view_module_version": "1.2.0",
            "grid_template_areas": null,
            "object_position": null,
            "object_fit": null,
            "grid_auto_columns": null,
            "margin": null,
            "display": null,
            "left": null
          }
        },
        "2c51a57febdd4476a344e3bab0042a82": {
          "model_module": "@jupyter-widgets/controls",
          "model_name": "DescriptionStyleModel",
          "model_module_version": "1.5.0",
          "state": {
            "_view_name": "StyleView",
            "_model_name": "DescriptionStyleModel",
            "description_width": "",
            "_view_module": "@jupyter-widgets/base",
            "_model_module_version": "1.5.0",
            "_view_count": null,
            "_view_module_version": "1.2.0",
            "_model_module": "@jupyter-widgets/controls"
          }
        },
        "ef393024a7d849839e69774ae9580a4c": {
          "model_module": "@jupyter-widgets/base",
          "model_name": "LayoutModel",
          "model_module_version": "1.2.0",
          "state": {
            "_view_name": "LayoutView",
            "grid_template_rows": null,
            "right": null,
            "justify_content": null,
            "_view_module": "@jupyter-widgets/base",
            "overflow": null,
            "_model_module_version": "1.2.0",
            "_view_count": null,
            "flex_flow": null,
            "width": null,
            "min_width": null,
            "border": null,
            "align_items": null,
            "bottom": null,
            "_model_module": "@jupyter-widgets/base",
            "top": null,
            "grid_column": null,
            "overflow_y": null,
            "overflow_x": null,
            "grid_auto_flow": null,
            "grid_area": null,
            "grid_template_columns": null,
            "flex": null,
            "_model_name": "LayoutModel",
            "justify_items": null,
            "grid_row": null,
            "max_height": null,
            "align_content": null,
            "visibility": null,
            "align_self": null,
            "height": null,
            "min_height": null,
            "padding": null,
            "grid_auto_rows": null,
            "grid_gap": null,
            "max_width": null,
            "order": null,
            "_view_module_version": "1.2.0",
            "grid_template_areas": null,
            "object_position": null,
            "object_fit": null,
            "grid_auto_columns": null,
            "margin": null,
            "display": null,
            "left": null
          }
        },
        "ea606941e4734c7fbde47c3916bc4678": {
          "model_module": "@jupyter-widgets/controls",
          "model_name": "HBoxModel",
          "model_module_version": "1.5.0",
          "state": {
            "_view_name": "HBoxView",
            "_dom_classes": [],
            "_model_name": "HBoxModel",
            "_view_module": "@jupyter-widgets/controls",
            "_model_module_version": "1.5.0",
            "_view_count": null,
            "_view_module_version": "1.5.0",
            "box_style": "",
            "layout": "IPY_MODEL_f2134d778dc74160876d9667457cc114",
            "_model_module": "@jupyter-widgets/controls",
            "children": [
              "IPY_MODEL_bf132b3af14c4b14b1b2ce0b69be69c2",
              "IPY_MODEL_86ad3e9150254a16a7d2592b58490b8b",
              "IPY_MODEL_88318517f83741988bc40a4fa01fc911"
            ]
          }
        },
        "f2134d778dc74160876d9667457cc114": {
          "model_module": "@jupyter-widgets/base",
          "model_name": "LayoutModel",
          "model_module_version": "1.2.0",
          "state": {
            "_view_name": "LayoutView",
            "grid_template_rows": null,
            "right": null,
            "justify_content": null,
            "_view_module": "@jupyter-widgets/base",
            "overflow": null,
            "_model_module_version": "1.2.0",
            "_view_count": null,
            "flex_flow": null,
            "width": null,
            "min_width": null,
            "border": null,
            "align_items": null,
            "bottom": null,
            "_model_module": "@jupyter-widgets/base",
            "top": null,
            "grid_column": null,
            "overflow_y": null,
            "overflow_x": null,
            "grid_auto_flow": null,
            "grid_area": null,
            "grid_template_columns": null,
            "flex": null,
            "_model_name": "LayoutModel",
            "justify_items": null,
            "grid_row": null,
            "max_height": null,
            "align_content": null,
            "visibility": null,
            "align_self": null,
            "height": null,
            "min_height": null,
            "padding": null,
            "grid_auto_rows": null,
            "grid_gap": null,
            "max_width": null,
            "order": null,
            "_view_module_version": "1.2.0",
            "grid_template_areas": null,
            "object_position": null,
            "object_fit": null,
            "grid_auto_columns": null,
            "margin": null,
            "display": null,
            "left": null
          }
        },
        "bf132b3af14c4b14b1b2ce0b69be69c2": {
          "model_module": "@jupyter-widgets/controls",
          "model_name": "HTMLModel",
          "model_module_version": "1.5.0",
          "state": {
            "_view_name": "HTMLView",
            "style": "IPY_MODEL_e244d513f0144d34859a56220960c076",
            "_dom_classes": [],
            "description": "",
            "_model_name": "HTMLModel",
            "placeholder": "​",
            "_view_module": "@jupyter-widgets/controls",
            "_model_module_version": "1.5.0",
            "value": "Training: 100%",
            "_view_count": null,
            "_view_module_version": "1.5.0",
            "description_tooltip": null,
            "_model_module": "@jupyter-widgets/controls",
            "layout": "IPY_MODEL_fcb1880962af4e179337a06185791c1e"
          }
        },
        "86ad3e9150254a16a7d2592b58490b8b": {
          "model_module": "@jupyter-widgets/controls",
          "model_name": "FloatProgressModel",
          "model_module_version": "1.5.0",
          "state": {
            "_view_name": "ProgressView",
            "style": "IPY_MODEL_7e777305ba76405ba1ac8a06122a9649",
            "_dom_classes": [],
            "description": "",
            "_model_name": "FloatProgressModel",
            "bar_style": "success",
            "max": 100,
            "_view_module": "@jupyter-widgets/controls",
            "_model_module_version": "1.5.0",
            "value": 100,
            "_view_count": null,
            "_view_module_version": "1.5.0",
            "orientation": "horizontal",
            "min": 0,
            "description_tooltip": null,
            "_model_module": "@jupyter-widgets/controls",
            "layout": "IPY_MODEL_4f7def823ef0400492aaa22574d21183"
          }
        },
        "88318517f83741988bc40a4fa01fc911": {
          "model_module": "@jupyter-widgets/controls",
          "model_name": "HTMLModel",
          "model_module_version": "1.5.0",
          "state": {
            "_view_name": "HTMLView",
            "style": "IPY_MODEL_477859779b9e4d8aab22405776fecd2e",
            "_dom_classes": [],
            "description": "",
            "_model_name": "HTMLModel",
            "placeholder": "​",
            "_view_module": "@jupyter-widgets/controls",
            "_model_module_version": "1.5.0",
            "value": " 100/100 [00:02&lt;00:00, 41.88it/s, accuracy=0.953, loss=0.00204]",
            "_view_count": null,
            "_view_module_version": "1.5.0",
            "description_tooltip": null,
            "_model_module": "@jupyter-widgets/controls",
            "layout": "IPY_MODEL_81e105da3c514d779a17168f320192cf"
          }
        },
        "e244d513f0144d34859a56220960c076": {
          "model_module": "@jupyter-widgets/controls",
          "model_name": "DescriptionStyleModel",
          "model_module_version": "1.5.0",
          "state": {
            "_view_name": "StyleView",
            "_model_name": "DescriptionStyleModel",
            "description_width": "",
            "_view_module": "@jupyter-widgets/base",
            "_model_module_version": "1.5.0",
            "_view_count": null,
            "_view_module_version": "1.2.0",
            "_model_module": "@jupyter-widgets/controls"
          }
        },
        "fcb1880962af4e179337a06185791c1e": {
          "model_module": "@jupyter-widgets/base",
          "model_name": "LayoutModel",
          "model_module_version": "1.2.0",
          "state": {
            "_view_name": "LayoutView",
            "grid_template_rows": null,
            "right": null,
            "justify_content": null,
            "_view_module": "@jupyter-widgets/base",
            "overflow": null,
            "_model_module_version": "1.2.0",
            "_view_count": null,
            "flex_flow": null,
            "width": null,
            "min_width": null,
            "border": null,
            "align_items": null,
            "bottom": null,
            "_model_module": "@jupyter-widgets/base",
            "top": null,
            "grid_column": null,
            "overflow_y": null,
            "overflow_x": null,
            "grid_auto_flow": null,
            "grid_area": null,
            "grid_template_columns": null,
            "flex": null,
            "_model_name": "LayoutModel",
            "justify_items": null,
            "grid_row": null,
            "max_height": null,
            "align_content": null,
            "visibility": null,
            "align_self": null,
            "height": null,
            "min_height": null,
            "padding": null,
            "grid_auto_rows": null,
            "grid_gap": null,
            "max_width": null,
            "order": null,
            "_view_module_version": "1.2.0",
            "grid_template_areas": null,
            "object_position": null,
            "object_fit": null,
            "grid_auto_columns": null,
            "margin": null,
            "display": null,
            "left": null
          }
        },
        "7e777305ba76405ba1ac8a06122a9649": {
          "model_module": "@jupyter-widgets/controls",
          "model_name": "ProgressStyleModel",
          "model_module_version": "1.5.0",
          "state": {
            "_view_name": "StyleView",
            "_model_name": "ProgressStyleModel",
            "description_width": "",
            "_view_module": "@jupyter-widgets/base",
            "_model_module_version": "1.5.0",
            "_view_count": null,
            "_view_module_version": "1.2.0",
            "bar_color": null,
            "_model_module": "@jupyter-widgets/controls"
          }
        },
        "4f7def823ef0400492aaa22574d21183": {
          "model_module": "@jupyter-widgets/base",
          "model_name": "LayoutModel",
          "model_module_version": "1.2.0",
          "state": {
            "_view_name": "LayoutView",
            "grid_template_rows": null,
            "right": null,
            "justify_content": null,
            "_view_module": "@jupyter-widgets/base",
            "overflow": null,
            "_model_module_version": "1.2.0",
            "_view_count": null,
            "flex_flow": null,
            "width": null,
            "min_width": null,
            "border": null,
            "align_items": null,
            "bottom": null,
            "_model_module": "@jupyter-widgets/base",
            "top": null,
            "grid_column": null,
            "overflow_y": null,
            "overflow_x": null,
            "grid_auto_flow": null,
            "grid_area": null,
            "grid_template_columns": null,
            "flex": null,
            "_model_name": "LayoutModel",
            "justify_items": null,
            "grid_row": null,
            "max_height": null,
            "align_content": null,
            "visibility": null,
            "align_self": null,
            "height": null,
            "min_height": null,
            "padding": null,
            "grid_auto_rows": null,
            "grid_gap": null,
            "max_width": null,
            "order": null,
            "_view_module_version": "1.2.0",
            "grid_template_areas": null,
            "object_position": null,
            "object_fit": null,
            "grid_auto_columns": null,
            "margin": null,
            "display": null,
            "left": null
          }
        },
        "477859779b9e4d8aab22405776fecd2e": {
          "model_module": "@jupyter-widgets/controls",
          "model_name": "DescriptionStyleModel",
          "model_module_version": "1.5.0",
          "state": {
            "_view_name": "StyleView",
            "_model_name": "DescriptionStyleModel",
            "description_width": "",
            "_view_module": "@jupyter-widgets/base",
            "_model_module_version": "1.5.0",
            "_view_count": null,
            "_view_module_version": "1.2.0",
            "_model_module": "@jupyter-widgets/controls"
          }
        },
        "81e105da3c514d779a17168f320192cf": {
          "model_module": "@jupyter-widgets/base",
          "model_name": "LayoutModel",
          "model_module_version": "1.2.0",
          "state": {
            "_view_name": "LayoutView",
            "grid_template_rows": null,
            "right": null,
            "justify_content": null,
            "_view_module": "@jupyter-widgets/base",
            "overflow": null,
            "_model_module_version": "1.2.0",
            "_view_count": null,
            "flex_flow": null,
            "width": null,
            "min_width": null,
            "border": null,
            "align_items": null,
            "bottom": null,
            "_model_module": "@jupyter-widgets/base",
            "top": null,
            "grid_column": null,
            "overflow_y": null,
            "overflow_x": null,
            "grid_auto_flow": null,
            "grid_area": null,
            "grid_template_columns": null,
            "flex": null,
            "_model_name": "LayoutModel",
            "justify_items": null,
            "grid_row": null,
            "max_height": null,
            "align_content": null,
            "visibility": null,
            "align_self": null,
            "height": null,
            "min_height": null,
            "padding": null,
            "grid_auto_rows": null,
            "grid_gap": null,
            "max_width": null,
            "order": null,
            "_view_module_version": "1.2.0",
            "grid_template_areas": null,
            "object_position": null,
            "object_fit": null,
            "grid_auto_columns": null,
            "margin": null,
            "display": null,
            "left": null
          }
        }
      }
    }
  },
  "cells": [
    {
      "cell_type": "markdown",
      "metadata": {
        "id": "view-in-github",
        "colab_type": "text"
      },
      "source": [
        "<a href=\"https://colab.research.google.com/github/jana0601/A_Summer_school_archiv-/blob/main/Copy_of_toy_example_students.ipynb\" target=\"_parent\"><img src=\"https://colab.research.google.com/assets/colab-badge.svg\" alt=\"Open In Colab\"/></a>"
      ]
    },
    {
      "cell_type": "markdown",
      "metadata": {
        "id": "3d979c7f"
      },
      "source": [
        "First we download and import all neccessary packages"
      ],
      "id": "3d979c7f"
    },
    {
      "cell_type": "code",
      "metadata": {
        "id": "5aVhK5fwUFZr",
        "colab": {
          "base_uri": "https://localhost:8080/"
        },
        "outputId": "082c7f86-3123-41fd-f96b-736ee2e988e1"
      },
      "source": [
        "!git clone --depth=1 https://github.com/ntapiam/dagstuhl.git\n",
        "%cd dagstuhl"
      ],
      "id": "5aVhK5fwUFZr",
      "execution_count": null,
      "outputs": [
        {
          "output_type": "stream",
          "text": [
            "Cloning into 'dagstuhl'...\n",
            "remote: Enumerating objects: 11, done.\u001b[K\n",
            "remote: Counting objects: 100% (11/11), done.\u001b[K\n",
            "remote: Compressing objects: 100% (7/7), done.\u001b[K\n",
            "remote: Total 11 (delta 1), reused 7 (delta 0), pack-reused 0\u001b[K\n",
            "Unpacking objects: 100% (11/11), done.\n",
            "/content/dagstuhl/dagstuhl/dagstuhl\n"
          ],
          "name": "stdout"
        }
      ]
    },
    {
      "cell_type": "code",
      "metadata": {
        "id": "3f09593d"
      },
      "source": [
        "import isstorch  # Feature extraction procedure\n",
        "\n",
        "from tqdm.notebook import trange # Pretty printing\n",
        "\n",
        "# Some utilities\n",
        "from utils import generate_examples, compute_signatures\n",
        "\n",
        "# Import PyTorch and shorthand some components\n",
        "import torch\n",
        "import torch.nn as nn\n",
        "from torch.optim import Adam\n",
        "from torch.utils.data import DataLoader, TensorDataset\n",
        "from sklearn.model_selection import train_test_split\n",
        "\n",
        "# Utils for plotting\n",
        "import matplotlib.pyplot as plt\n",
        "import seaborn as sns"
      ],
      "id": "3f09593d",
      "execution_count": null,
      "outputs": []
    },
    {
      "cell_type": "markdown",
      "metadata": {
        "id": "XUVWT0xoUa4e"
      },
      "source": [
        "Set the default `torch` device depending on whether there is a GPU available.\n",
        "You can change this by going to `Runtime > Change runtime type` and selecting among the available accelerators (None means CPU).\n",
        "\n",
        "We also run a random example to measure speed and check that everything is working OK."
      ],
      "id": "XUVWT0xoUa4e"
    },
    {
      "cell_type": "code",
      "metadata": {
        "scrolled": true,
        "id": "0727924b",
        "colab": {
          "base_uri": "https://localhost:8080/"
        },
        "outputId": "f76ef0e2-ce6d-4bd8-89c1-27992ecc5d2c"
      },
      "source": [
        "device = torch.device('cuda') if torch.cuda.is_available() else torch.device('cpu')\n",
        "\n",
        "x = torch.randn(1000, 100, device=device)\n",
        "if torch.cuda.is_available():\n",
        "  with torch.no_grad():\n",
        "    %time isstorch.compute(x); torch.cuda.synchronize('cuda')\n",
        "x = x.to('cpu')\n",
        "with torch.no_grad():\n",
        "  %time isstorch.compute(x);"
      ],
      "id": "0727924b",
      "execution_count": null,
      "outputs": [
        {
          "output_type": "stream",
          "text": [
            "CPU times: user 415 ms, sys: 54.1 ms, total: 469 ms\n",
            "Wall time: 467 ms\n"
          ],
          "name": "stdout"
        }
      ]
    },
    {
      "cell_type": "markdown",
      "metadata": {
        "id": "73a55913"
      },
      "source": [
        "Let's look at some samples. The function `generate_samples` outputs a different set of data each time.\n",
        "\n",
        "The dataset is generated from an ARMA(1,1) model with mean equal to 0.5 and different parameters for each class.\n",
        "More precisely, each sample in the class is generated by the recursion\n",
        "$$\n",
        "  x_{t+1} = \\phi x_t + 0.5 + \\epsilon_t + \\theta\\epsilon_{t-1}\n",
        "$$\n",
        "where $\\phi$ and $\\theta$ are class dependent."
      ],
      "id": "73a55913"
    },
    {
      "cell_type": "code",
      "metadata": {
        "scrolled": true,
        "id": "6637121d",
        "colab": {
          "base_uri": "https://localhost:8080/",
          "height": 285
        },
        "outputId": "31f5226d-991f-48ed-f0e0-24344d44dc09"
      },
      "source": [
        "X, labels = generate_examples()\n",
        "plt.plot(range(100), X[0], label=\"class 0\")\n",
        "plt.plot(range(100), X[500], label=\"class 1\")\n",
        "plt.xlabel('t')\n",
        "plt.legend()\n",
        "plt.show()"
      ],
      "id": "6637121d",
      "execution_count": null,
      "outputs": [
        {
          "output_type": "display_data",
          "data": {
            "image/png": "[encoded data removed]",
            "text/plain": [
              "<Figure size 432x288 with 1 Axes>"
            ]
          },
          "metadata": {}
        }
      ]
    },
    {
      "cell_type": "markdown",
      "metadata": {
        "id": "27d94aa5"
      },
      "source": [
        "Now, we compute the signature features using our `pytorch` implementation."
      ],
      "id": "27d94aa5"
    },
    {
      "cell_type": "code",
      "metadata": {
        "id": "f9a2bd78",
        "colab": {
          "base_uri": "https://localhost:8080/"
        },
        "outputId": "832333b7-2fce-4400-afba-1fd2a504da03"
      },
      "source": [
        "with torch.no_grad():\n",
        "  %time sigs = compute_signatures(X, level=4) # Hyperparameter chosen here!\n",
        "                                              # Play with it and see how it\n",
        "                                              # changes the results\n",
        "\n",
        "sigs.shape # Check how many features we obtain"
      ],
      "id": "f9a2bd78",
      "execution_count": null,
      "outputs": [
        {
          "output_type": "stream",
          "text": [
            "CPU times: user 429 ms, sys: 0 ns, total: 429 ms\n",
            "Wall time: 436 ms\n"
          ],
          "name": "stdout"
        },
        {
          "output_type": "execute_result",
          "data": {
            "text/plain": [
              "torch.Size([1000, 15])"
            ]
          },
          "metadata": {},
          "execution_count": 86
        }
      ]
    },
    {
      "cell_type": "markdown",
      "metadata": {
        "id": "5f796922"
      },
      "source": [
        "In order to train and test our Neural Network, we split the data into a training set and a test set using the auxiliary function `train_test_split` from the `sklearn` package. The stratification ensures a balanced distribution of both classes in each split.\n",
        "\n",
        "We use 70% of the data for training. Try modifying this value to see how the results change.\n",
        "\n",
        "We need to wrap the data in a PyTorch `DataLoader` [(docs)](https://pytorch.org/docs/stable/data.html).\n",
        "We also load the data in batches."
      ],
      "id": "5f796922"
    },
    {
      "cell_type": "code",
      "metadata": {
        "id": "0f11e74f"
      },
      "source": [
        "train_sigs, test_sigs, train_labels, test_labels = train_test_split(sigs, labels, stratify=labels, train_size=0.7)\n",
        "train_dataloader = DataLoader(TensorDataset(train_sigs, train_labels), batch_size=100)\n",
        "test_dataloader = DataLoader(TensorDataset(test_sigs, test_labels), batch_size=100)"
      ],
      "id": "0f11e74f",
      "execution_count": null,
      "outputs": []
    },
    {
      "cell_type": "markdown",
      "metadata": {
        "id": "3f294f52"
      },
      "source": [
        "We build our model using by subclassing `torch.nn.Module`.\n",
        "\n",
        "To see all possible layers and activations, please see the `torch.nn` [(docs)](https://pytorch.org/docs/stable/nn.html)."
      ],
      "id": "3f294f52"
    },
    {
      "cell_type": "code",
      "metadata": {
        "id": "f2b3e163"
      },
      "source": [
        "class DenseNet(torch.nn.Module):\n",
        "   def __init__(self, hidden_layers=1,width=10,in_features=3):\n",
        "     super().__init__()\n",
        "     self.batch_norm = nn.BatchNorm1d(in_features)\n",
        "     input_layer = nn.Sequential(\n",
        "         nn.Linear(in_features=in_features,out_features=width),\n",
        "         nn.ReLU()\n",
        "     )\n",
        "     layers = [input_layer]\n",
        "     for k in range(hidden_layers):\n",
        "       layers.append(nn.Sequential(\n",
        "           nn.Linear(in_features=width,out_features=width),\n",
        "           nn.ReLU()\n",
        "           )\n",
        "       )\n",
        "       layers.append(nn.Sequential(\n",
        "           nn.Linear(in_features=width,out_features=2),\n",
        "           nn.Tanh()\n",
        "           )\n",
        "       ) \n",
        "       self.stack = nn.Sequential(*layers)\n",
        "   def forward(self, x):\n",
        "       x = self.batch_norm(x)\n",
        "       return self.stack(x)\n"
      ],
      "id": "f2b3e163",
      "execution_count": null,
      "outputs": []
    },
    {
      "cell_type": "code",
      "metadata": {
        "id": "fWehjQjH4QWN"
      },
      "source": [
        "class DenseNet(nn.Module):\n",
        "    def __init__(self, hidden_layers=1, width=10, in_features=3):\n",
        "        super().__init__()\n",
        "        self.batch_norm = nn.BatchNorm1d(in_features)\n",
        "        input_layer = nn.Sequential(\n",
        "            nn.Linear(in_features=in_features, out_features=width),\n",
        "            nn.ReLU()\n",
        "        )\n",
        "        layers = [input_layer]\n",
        "        for k in range(hidden_layers):\n",
        "            layers.append(nn.Sequential(\n",
        "                nn.Linear(in_features=width, out_features=width),\n",
        "                nn.ReLU()\n",
        "                )\n",
        "            )\n",
        "        \n",
        "        layers.append(nn.Sequential(\n",
        "            nn.Linear(in_features=width, out_features=2),\n",
        "            nn.Tanh()\n",
        "            )\n",
        "        )\n",
        "        self.stack = nn.Sequential(*layers)\n",
        "    \n",
        "    def forward(self, x):\n",
        "        x = self.batch_norm(x)\n",
        "        return self.stack(x)"
      ],
      "id": "fWehjQjH4QWN",
      "execution_count": null,
      "outputs": []
    },
    {
      "cell_type": "markdown",
      "metadata": {
        "id": "31146f47"
      },
      "source": [
        "Next, we set up the training and testing loops"
      ],
      "id": "31146f47"
    },
    {
      "cell_type": "code",
      "metadata": {
        "id": "524e7150"
      },
      "source": [
        "def train_loop(model, dataloader, loss_fn, optimizer, device):\n",
        "    #pass\n",
        "    ### FILL IN\n",
        "    ## Some pointers:\n",
        "    ## - Load the data in batches by iterating through `dataloader`\n",
        "    ## - Make a prediction using `model` and evaluate it using `loss_fn`\n",
        "    ## - Backpropagate the error through the network\n",
        "    ## - Finally, use `optimizer` to modify the weights (remember to reset them at each batch)\n",
        "    for X,y in dataloader:\n",
        "      X, y = X.to(device),y.to(device)\n",
        "      pred = model(X)\n",
        "      loss = loss_fn(pred, y) \n",
        "      optimizer.zero_grad()\n",
        "      loss.backward()\n",
        "      optimizer.step()\n",
        "def test_loop(model, dataloader, loss_fn, device):\n",
        "    ### FILL IN\n",
        "    ## Some pointers:\n",
        "    ## - Load the data by iterating through `dataloader`\n",
        "    ## - Make a prediction using `model` and evaluate it using `loss_fn`\n",
        "    ## - Compute the number of correct guesses by comparing your predictions to the 'ground truth'\n",
        "    ## - Return the accuracy and average loss value of your model.\n",
        "    # assume we have X,y from batch\n",
        "    total_samples = len(dataloader.dataset)\n",
        "    test_loss,correct = 0,0\n",
        "    with torch.no_grad():\n",
        "      for X,y in dataloader:\n",
        "        pred = model(X)\n",
        "        test_loss += loss_fn(pred,y).item()\n",
        "        correct += (pred.argmax(dim = 1) == y).type(torch.float).sum().item()\n",
        "    return correct/total_samples, test_loss / total_samples"
      ],
      "id": "524e7150",
      "execution_count": null,
      "outputs": []
    },
    {
      "cell_type": "markdown",
      "metadata": {
        "id": "7f7d5136"
      },
      "source": [
        "Setup our model, loss function and optimizer [(docs)](https://pytorch.org/docs/stable/optim.html#algorithms). \n",
        "\n",
        "Train the network and output the result."
      ],
      "id": "7f7d5136"
    },
    {
      "cell_type": "code",
      "metadata": {
        "id": "lDQUVXyt172M"
      },
      "source": [
        ""
      ],
      "id": "lDQUVXyt172M",
      "execution_count": null,
      "outputs": []
    },
    {
      "cell_type": "code",
      "metadata": {
        "id": "eb4fe2ca",
        "colab": {
          "base_uri": "https://localhost:8080/",
          "height": 116,
          "referenced_widgets": [
            "0999da7fc66d4ea3afbaf538c601f979",
            "fefd938113944be395758bbc451be5e1",
            "4941fadfe322451b87e2c3f7aae7a089",
            "71ff5bb663424ff6bb0fab260fb5d8ff",
            "c5199827baee45fb9ec63ab9667ccce5",
            "f0b69e7da8ba4d78ab4a88dbe6bc48c3",
            "2da4bd237c28417dba8eccc026f83b37",
            "f1d2ba0ddb96430592212481f18b5959",
            "9d51c853b84c4df489dcd5817daa61de",
            "2c51a57febdd4476a344e3bab0042a82",
            "ef393024a7d849839e69774ae9580a4c"
          ]
        },
        "outputId": "cea05e40-a3a4-4a88-b86a-aed740fb63d0"
      },
      "source": [
        "%%time\n",
        "model = DenseNet(hidden_layers=1,width=20,in_features=len(sigs[0]))## FILL IN (remember to call .to(device) if training on the GPU!)\n",
        "optimizer = Adam(model.parameters(), lr=1e-3) # One possible choice of optimizer\n",
        "loss_fn = nn.CrossEntropyLoss() ## We choose the Negative Log Likelihood loss\n",
        "\n",
        "epochs = 100  # Hyperparameter, feel free to change it\n",
        "losses = [] # Record the losses during training for some a posteriori analysis\n",
        "accuracies = [] # Same with accuracies\n",
        "\n",
        "# The following is some pretty printing\n",
        "with trange(epochs) as pbar:\n",
        "    for t in pbar:\n",
        "        train_loop(model, train_dataloader, loss_fn, optimizer, device)\n",
        "        acc, avg_loss = test_loop(model, test_dataloader, loss_fn, device)\n",
        "        accuracies.append(acc)\n",
        "        losses.append(avg_loss)\n",
        "        pbar.set_description(f\"Training\")\n",
        "        pbar.set_postfix(loss=avg_loss, accuracy=acc)\n",
        "\n",
        "# Run the test loop once more to verify our accuracy\n",
        "acc, avg_loss = test_loop(model, test_dataloader, loss_fn, device)\n",
        "print(f\"\\nDone! Accuraccy: {acc:.2%}, Loss: {avg_loss:f}\")"
      ],
      "id": "eb4fe2ca",
      "execution_count": null,
      "outputs": [
        {
          "output_type": "display_data",
          "data": {
            "application/vnd.jupyter.widget-view+json": {
              "model_id": "0999da7fc66d4ea3afbaf538c601f979",
              "version_minor": 0,
              "version_major": 2
            },
            "text/plain": [
              "  0%|          | 0/100 [00:00<?, ?it/s]"
            ]
          },
          "metadata": {}
        },
        {
          "output_type": "stream",
          "text": [
            "\n",
            "Done! Accuraccy: 97.67%, Loss: 0.001781\n",
            "CPU times: user 2.36 s, sys: 55.6 ms, total: 2.41 s\n",
            "Wall time: 2.45 s\n"
          ],
          "name": "stdout"
        }
      ]
    },
    {
      "cell_type": "markdown",
      "metadata": {
        "id": "0NEYm84TuEHp"
      },
      "source": [
        "Now, we can make a predicition on our test data (or even new inputs), which will be given as a probability distribution over class labels.\n",
        "\n",
        "Note that we apply the exponential mapping in order to obtain (true) probabilities, as the network outputs negative log probas."
      ],
      "id": "0NEYm84TuEHp"
    },
    {
      "cell_type": "code",
      "metadata": {
        "id": "EurkCtLfsE-F"
      },
      "source": [
        "preds = model(test_sigs[:10]).exp()"
      ],
      "id": "EurkCtLfsE-F",
      "execution_count": null,
      "outputs": []
    },
    {
      "cell_type": "markdown",
      "metadata": {
        "id": "IYdBTLwjuf8n"
      },
      "source": [
        "We check that they sum to 1 for each example."
      ],
      "id": "IYdBTLwjuf8n"
    },
    {
      "cell_type": "code",
      "metadata": {
        "id": "crgNwQUrunrK",
        "colab": {
          "base_uri": "https://localhost:8080/"
        },
        "outputId": "6542a5f1-6a6a-4c3c-95fe-f926fe409e8f"
      },
      "source": [
        "torch.allclose(preds.sum(dim=1), torch.ones(10)) # Need to use `allclose` to account for floating point errors"
      ],
      "id": "crgNwQUrunrK",
      "execution_count": null,
      "outputs": [
        {
          "output_type": "execute_result",
          "data": {
            "text/plain": [
              "False"
            ]
          },
          "metadata": {},
          "execution_count": 93
        }
      ]
    },
    {
      "cell_type": "markdown",
      "metadata": {
        "id": "HGv4o4ocwUWe"
      },
      "source": [
        " The predicted label is the one with the highest probability."
      ],
      "id": "HGv4o4ocwUWe"
    },
    {
      "cell_type": "code",
      "metadata": {
        "id": "Zda9btrxuxYT",
        "colab": {
          "base_uri": "https://localhost:8080/"
        },
        "outputId": "899f5436-9638-4c59-9389-bafa15bdbe14"
      },
      "source": [
        "preds.argmax(dim=1), test_labels[:10]"
      ],
      "id": "Zda9btrxuxYT",
      "execution_count": null,
      "outputs": [
        {
          "output_type": "execute_result",
          "data": {
            "text/plain": [
              "(tensor([1, 0, 0, 1, 1, 1, 0, 1, 0, 1]),\n",
              " tensor([1, 0, 0, 1, 1, 1, 0, 1, 0, 1]))"
            ]
          },
          "metadata": {},
          "execution_count": 94
        }
      ]
    },
    {
      "cell_type": "markdown",
      "metadata": {
        "id": "1xFUPRc90ENd"
      },
      "source": [
        "The following cell plots the evolution of the total loss and accuracy across training epochs."
      ],
      "id": "1xFUPRc90ENd"
    },
    {
      "cell_type": "code",
      "metadata": {
        "id": "xTL6ueOcWbIW",
        "colab": {
          "base_uri": "https://localhost:8080/",
          "height": 310
        },
        "outputId": "e188b86f-aa87-4400-bcd6-e52a9f89b237"
      },
      "source": [
        "sns.set_theme() # Prettify plots\n",
        "fig, ax1 = plt.subplots()\n",
        "ax2 = ax1.twinx()\n",
        "ax1.plot(range(epochs), losses, color='tab:red')\n",
        "ax2.plot(range(epochs), accuracies, color='tab:blue')\n",
        "ax1.set_xlabel('epochs')\n",
        "ax1.set_ylabel('losses')\n",
        "ax2.set_ylim(bottom=0, top=1)\n",
        "ax2.set_ylabel('accuracy')\n",
        "fig.tight_layout()\n",
        "plt.plot()"
      ],
      "id": "xTL6ueOcWbIW",
      "execution_count": null,
      "outputs": [
        {
          "output_type": "execute_result",
          "data": {
            "text/plain": [
              "[]"
            ]
          },
          "metadata": {},
          "execution_count": 95
        },
        {
          "output_type": "display_data",
          "data": {
            "image/png": "[encoded data removed]",
            "text/plain": [
              "<Figure size 432x288 with 2 Axes>"
            ]
          },
          "metadata": {}
        }
      ]
    },
    {
      "cell_type": "markdown",
      "metadata": {
        "id": "toHZnQ2s0PLw"
      },
      "source": [
        "Next, we compare with the same model but trained on raw time-series data."
      ],
      "id": "toHZnQ2s0PLw"
    },
    {
      "cell_type": "code",
      "metadata": {
        "id": "2fecveXkdKOB"
      },
      "source": [
        "#X, labels = generate_examples()\n",
        "train_data, test_data, train_labels, test_labels = train_test_split(X.flatten(start_dim=1), labels, stratify=labels, train_size=0.7)\n",
        "#train_sigs, test_sigs, train_labels, test_labels = train_test_split(sigs, labels, stratify=labels, train_size=0.7)\n",
        "train_dataloader = DataLoader(TensorDataset(train_data, train_labels), batch_size=100)\n",
        "test_dataloader = DataLoader(TensorDataset(test_data, test_labels), batch_size=100)"
      ],
      "id": "2fecveXkdKOB",
      "execution_count": null,
      "outputs": []
    },
    {
      "cell_type": "code",
      "metadata": {
        "id": "ndZYJ0zfdaPm",
        "colab": {
          "base_uri": "https://localhost:8080/",
          "height": 116,
          "referenced_widgets": [
            "ea606941e4734c7fbde47c3916bc4678",
            "f2134d778dc74160876d9667457cc114",
            "bf132b3af14c4b14b1b2ce0b69be69c2",
            "86ad3e9150254a16a7d2592b58490b8b",
            "88318517f83741988bc40a4fa01fc911",
            "e244d513f0144d34859a56220960c076",
            "fcb1880962af4e179337a06185791c1e",
            "7e777305ba76405ba1ac8a06122a9649",
            "4f7def823ef0400492aaa22574d21183",
            "477859779b9e4d8aab22405776fecd2e",
            "81e105da3c514d779a17168f320192cf"
          ]
        },
        "outputId": "1dc0579b-8438-4a3c-9d4b-935a0d8b5e16"
      },
      "source": [
        "%%time\n",
        "in_features=100\n",
        "new_model = DenseNet(hidden_layers=1, width=20, in_features=len(X.flatten(start_dim=1)[0]))## Use the same model as before with the appropriate parameteres\n",
        "new_optimizer = Adam(new_model.parameters(), lr=1e-3) # Initialize optimizer\n",
        "new_loss_fn = nn.CrossEntropyLoss()\n",
        "accuracies2 = []\n",
        "losses2 = []\n",
        "\n",
        "with trange(epochs) as pbar:\n",
        "    for t in pbar:\n",
        "        train_loop(new_model, train_dataloader, new_loss_fn, new_optimizer, device)\n",
        "        acc, avg_loss = test_loop(new_model, test_dataloader, new_loss_fn, device)\n",
        "        pbar.set_description(f\"Training\")\n",
        "        pbar.set_postfix(loss=avg_loss, accuracy=acc)\n",
        "        accuracies2.append(acc)\n",
        "        losses2.append(avg_loss)\n",
        "\n",
        "acc, avg_loss = test_loop(new_model, test_dataloader, new_loss_fn, device)\n",
        "print(f\"\\nDone! Accuraccy: {acc:.2%}, Loss: {avg_loss:f}\")"
      ],
      "id": "ndZYJ0zfdaPm",
      "execution_count": null,
      "outputs": [
        {
          "output_type": "display_data",
          "data": {
            "application/vnd.jupyter.widget-view+json": {
              "model_id": "ea606941e4734c7fbde47c3916bc4678",
              "version_minor": 0,
              "version_major": 2
            },
            "text/plain": [
              "  0%|          | 0/100 [00:00<?, ?it/s]"
            ]
          },
          "metadata": {}
        },
        {
          "output_type": "stream",
          "text": [
            "\n",
            "Done! Accuraccy: 95.33%, Loss: 0.002036\n",
            "CPU times: user 2.6 s, sys: 29 ms, total: 2.63 s\n",
            "Wall time: 2.64 s\n"
          ],
          "name": "stdout"
        }
      ]
    },
    {
      "cell_type": "code",
      "metadata": {
        "colab": {
          "base_uri": "https://localhost:8080/",
          "height": 310
        },
        "id": "_CW2Q3_u7_N3",
        "outputId": "c99c8a10-ec45-4b45-f732-47bdf183b128"
      },
      "source": [
        "sns.set_theme() # Prettify plots\n",
        "fig, ax1 = plt.subplots()\n",
        "ax2 = ax1.twinx()\n",
        "ax1.plot(range(epochs), losses2, color='tab:red')\n",
        "ax2.plot(range(epochs), accuracies2, color='tab:blue')\n",
        "ax1.set_xlabel('epochs')\n",
        "ax1.set_ylabel('losses')\n",
        "ax2.set_ylim(bottom=0, top=1)\n",
        "ax2.set_ylabel('accuracy')\n",
        "fig.tight_layout()\n",
        "plt.plot()"
      ],
      "id": "_CW2Q3_u7_N3",
      "execution_count": null,
      "outputs": [
        {
          "output_type": "execute_result",
          "data": {
            "text/plain": [
              "[]"
            ]
          },
          "metadata": {},
          "execution_count": 98
        },
        {
          "output_type": "display_data",
          "data": {
            "image/png": "[encoded data removed]",
            "text/plain": [
              "<Figure size 432x288 with 2 Axes>"
            ]
          },
          "metadata": {}
        }
      ]
    }
  ]
}